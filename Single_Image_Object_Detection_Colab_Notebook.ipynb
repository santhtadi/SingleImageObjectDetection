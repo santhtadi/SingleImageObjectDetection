{
  "nbformat": 4,
  "nbformat_minor": 0,
  "metadata": {
    "colab": {
      "name": "Single Image Object Detection - Colab Notebook.ipynb",
      "provenance": [],
      "collapsed_sections": [],
      "toc_visible": true
    },
    "kernelspec": {
      "name": "python3",
      "display_name": "Python 3"
    },
    "accelerator": "GPU"
  },
  "cells": [
    {
      "cell_type": "markdown",
      "metadata": {
        "id": "udqHPe1WpuvO"
      },
      "source": [
        "# Simgle Image Image Classification\r\n",
        "\r\n",
        "**Note**: The colab notebook follows tutorials from pyimagesearch.com\r\n",
        "1. siamese network: \r\n",
        "https://www.pyimagesearch.com/2020/11/30/siamese-networks-with-keras-tensorflow-and-deep-learning/\r\n",
        "2. turning object classification network to object detection:\r\n",
        "https://www.pyimagesearch.com/2020/06/22/turning-any-cnn-image-classifier-into-an-object-detector-with-keras-tensorflow-and-opencv/\r\n",
        "\r\n",
        "### Contents:\r\n",
        "#### 1. Making pairs (building dataset for siamese network)\r\n",
        "#### 2. Build Neural Network\r\n",
        "#### 3. Train Neural Network\r\n",
        "#### 4. Save Model\r\n",
        "#### 5. Load Model and Test Model\r\n"
      ]
    },
    {
      "cell_type": "markdown",
      "metadata": {
        "id": "ySAYzAzRp2Kr"
      },
      "source": [
        "## Making Pairs"
      ]
    },
    {
      "cell_type": "markdown",
      "metadata": {
        "id": "JztoAIGdrL4A"
      },
      "source": [
        "### Imports"
      ]
    },
    {
      "cell_type": "code",
      "metadata": {
        "id": "B2hhpJeqkMmq"
      },
      "source": [
        "from tensorflow.keras.datasets import mnist\r\n",
        "from imutils import build_montages\r\n",
        "import numpy as np\r\n",
        "import cv2\r\n",
        "from tqdm import tqdm\r\n",
        "from google.colab.patches import cv2_imshow"
      ],
      "execution_count": null,
      "outputs": []
    },
    {
      "cell_type": "markdown",
      "metadata": {
        "id": "n4iDjzorrNpq"
      },
      "source": [
        "### function to make pairs of images"
      ]
    },
    {
      "cell_type": "code",
      "metadata": {
        "id": "7o-YhUX9q-qf"
      },
      "source": [
        "def make_pairs(images, labels):\r\n",
        "\t# initialize two empty lists to hold the (image, image) pairs and\r\n",
        "\t# labels to indicate if a pair is positive or negative\r\n",
        "\tpairImages = []\r\n",
        "\tpairLabels = []\r\n",
        "\t# calculate the total number of classes present in the dataset\r\n",
        "\t# and then build a list of indexes for each class label that\r\n",
        "\t# provides the indexes for all examples with a given label\r\n",
        "\tnumClasses = len(np.unique(labels))\r\n",
        "\tidx = [np.where(labels == i)[0] for i in range(0, numClasses)]\r\n",
        "\t# loop over all images\r\n",
        "\tfor idxA in range(len(images)):\r\n",
        "\t\t# grab the current image and label belonging to the current\r\n",
        "\t\t# iteration\r\n",
        "\t\tcurrentImage = images[idxA]\r\n",
        "\t\tlabel = labels[idxA]\r\n",
        "\t\t# randomly pick an image that belongs to the *same* class\r\n",
        "\t\t# label\r\n",
        "\t\tidxB = np.random.choice(idx[label])\r\n",
        "\t\tposImage = images[idxB]\r\n",
        "\t\t# prepare a positive pair and update the images and labels\r\n",
        "\t\t# lists, respectively\r\n",
        "\t\tpairImages.append([currentImage, posImage])\r\n",
        "\t\tpairLabels.append([1])\r\n",
        "\t\t# grab the indices for each of the class labels *not* equal to\r\n",
        "\t\t# the current label and randomly pick an image corresponding\r\n",
        "\t\t# to a label *not* equal to the current label\r\n",
        "\t\tnegIdx = np.where(labels != label)[0]\r\n",
        "\t\tnegImage = images[np.random.choice(negIdx)]\r\n",
        "\t\t# prepare a negative pair of images and update our lists\r\n",
        "\t\tpairImages.append([currentImage, negImage])\r\n",
        "\t\tpairLabels.append([0])\r\n",
        "\t# return a 2-tuple of our image pairs and labels\r\n",
        "\treturn (np.array(pairImages), np.array(pairLabels))"
      ],
      "execution_count": null,
      "outputs": []
    },
    {
      "cell_type": "markdown",
      "metadata": {
        "id": "8Rpg0OitsYi2"
      },
      "source": [
        "### load data and make pairs"
      ]
    },
    {
      "cell_type": "code",
      "metadata": {
        "id": "bBKN_ChwsC-i",
        "colab": {
          "base_uri": "https://localhost:8080/"
        },
        "outputId": "9123f205-7701-4511-95f2-90811dd42c83"
      },
      "source": [
        "(trainX, trainY), (testX, testY) = mnist.load_data()\r\n",
        "trainX = trainX / 255.0\r\n",
        "testX = testX / 255.0\r\n",
        "trainX = np.expand_dims(trainX, axis=-1)\r\n",
        "testX = np.expand_dims(testX, axis=-1)\r\n",
        "print(trainX.shape, testX.shape)"
      ],
      "execution_count": null,
      "outputs": [
        {
          "output_type": "stream",
          "text": [
            "(60000, 28, 28, 1) (10000, 28, 28, 1)\n"
          ],
          "name": "stdout"
        }
      ]
    },
    {
      "cell_type": "code",
      "metadata": {
        "id": "L9D2GKV6si4E",
        "colab": {
          "base_uri": "https://localhost:8080/"
        },
        "outputId": "d47955bd-0ac7-476e-ee62-76cdc4af0ff8"
      },
      "source": [
        "(pairTrain, labelTrain) = make_pairs(trainX, trainY)\r\n",
        "(pairTest, labelTest) = make_pairs(testX, testY)\r\n",
        "images = []\r\n",
        "print(pairTrain.shape, pairTest.shape)"
      ],
      "execution_count": null,
      "outputs": [
        {
          "output_type": "stream",
          "text": [
            "(120000, 2, 28, 28, 1) (20000, 2, 28, 28, 1)\n"
          ],
          "name": "stdout"
        }
      ]
    },
    {
      "cell_type": "markdown",
      "metadata": {
        "id": "Lp-9-5qPunvO"
      },
      "source": [
        "## Build Neural Network"
      ]
    },
    {
      "cell_type": "markdown",
      "metadata": {
        "id": "KL-pvkJIvc_H"
      },
      "source": [
        "### Imports"
      ]
    },
    {
      "cell_type": "code",
      "metadata": {
        "id": "QfGtVSeouwS_"
      },
      "source": [
        "from tensorflow.keras.models import Model\r\n",
        "from tensorflow.keras.layers import Input\r\n",
        "from tensorflow.keras.layers import Conv2D\r\n",
        "from tensorflow.keras.layers import Dense\r\n",
        "from tensorflow.keras.layers import Dropout\r\n",
        "from tensorflow.keras.layers import GlobalAveragePooling2D\r\n",
        "from tensorflow.keras.layers import MaxPooling2D\r\n",
        "import tensorflow.keras.backend as K\r\n",
        "import matplotlib.pyplot as plt\r\n",
        "import numpy as np"
      ],
      "execution_count": null,
      "outputs": []
    },
    {
      "cell_type": "markdown",
      "metadata": {
        "id": "qyGRrYtwvh0k"
      },
      "source": [
        "### Network"
      ]
    },
    {
      "cell_type": "code",
      "metadata": {
        "id": "kPRWepSEvgZJ"
      },
      "source": [
        "def build_siamese_model(inputShape, flow, embeddingDim=48):\r\n",
        "\t# specify the inputs for the feature extractor network\r\n",
        "\tinputs = Input(inputShape, name=flow+\"input\")\r\n",
        "\t# define the first set of CONV => RELU => POOL => DROPOUT layers\r\n",
        "\tx = Conv2D(64, (2, 2), padding=\"same\", activation=\"relu\", name=flow+\"_conv1\")(inputs)\r\n",
        "\tx = MaxPooling2D(pool_size=(2, 2), name=flow+\"_pool1\")(x)\r\n",
        "\tx = Dropout(0.3, name=flow+\"_drop1\")(x)\r\n",
        "\t# second set of CONV => RELU => POOL => DROPOUT layers\r\n",
        "\tx = Conv2D(64, (2, 2), padding=\"same\", activation=\"relu\", name=flow+\"_conv2\")(x)\r\n",
        "\tx = MaxPooling2D(pool_size=2, name=flow+\"_pool2\")(x)\r\n",
        "\tx = Dropout(0.3, name=flow+\"_drop2\")(x)\r\n",
        "  # prepare the final outputs\r\n",
        "\tpooledOutput = GlobalAveragePooling2D(name=flow+\"_pooled_out\")(x)\r\n",
        "\toutputs = Dense(embeddingDim, name=flow+\"_embed\")(pooledOutput)\r\n",
        "\t# build the model\r\n",
        "\tmodel = Model(inputs, outputs, name=\"feature_extractor_model\")\r\n",
        "\t# return the model to the calling function\r\n",
        "\treturn model"
      ],
      "execution_count": null,
      "outputs": []
    },
    {
      "cell_type": "code",
      "metadata": {
        "id": "ym2q1ojPvwn9"
      },
      "source": [
        "siamese_model = build_siamese_model([28,28,1], \"flow\")"
      ],
      "execution_count": null,
      "outputs": []
    },
    {
      "cell_type": "code",
      "metadata": {
        "colab": {
          "base_uri": "https://localhost:8080/"
        },
        "id": "Se2JBpASwGbz",
        "outputId": "f64b3872-c541-4ae3-9539-76c0cf6d958f"
      },
      "source": [
        "siamese_model.summary()"
      ],
      "execution_count": null,
      "outputs": [
        {
          "output_type": "stream",
          "text": [
            "Model: \"feature_extractor_model\"\n",
            "_________________________________________________________________\n",
            "Layer (type)                 Output Shape              Param #   \n",
            "=================================================================\n",
            "flowinput (InputLayer)       [(None, 28, 28, 1)]       0         \n",
            "_________________________________________________________________\n",
            "flow_conv1 (Conv2D)          (None, 28, 28, 64)        320       \n",
            "_________________________________________________________________\n",
            "flow_pool1 (MaxPooling2D)    (None, 14, 14, 64)        0         \n",
            "_________________________________________________________________\n",
            "flow_drop1 (Dropout)         (None, 14, 14, 64)        0         \n",
            "_________________________________________________________________\n",
            "flow_conv2 (Conv2D)          (None, 14, 14, 64)        16448     \n",
            "_________________________________________________________________\n",
            "flow_pool2 (MaxPooling2D)    (None, 7, 7, 64)          0         \n",
            "_________________________________________________________________\n",
            "flow_drop2 (Dropout)         (None, 7, 7, 64)          0         \n",
            "_________________________________________________________________\n",
            "flow_pooled_out (GlobalAvera (None, 64)                0         \n",
            "_________________________________________________________________\n",
            "flow_embed (Dense)           (None, 48)                3120      \n",
            "=================================================================\n",
            "Total params: 19,888\n",
            "Trainable params: 19,888\n",
            "Non-trainable params: 0\n",
            "_________________________________________________________________\n"
          ],
          "name": "stdout"
        }
      ]
    },
    {
      "cell_type": "code",
      "metadata": {
        "id": "I7Nvuj8AwQe7"
      },
      "source": [
        "def euclidean_distance(vectors):\r\n",
        "\t# unpack the vectors into separate lists\r\n",
        "\t(featsA, featsB) = vectors\r\n",
        "\t# compute the sum of squared distances between the vectors\r\n",
        "\tsumSquared = K.sum(K.square(featsA - featsB), axis=1,\r\n",
        "\t\tkeepdims=True)\r\n",
        "\t# return the euclidean distance between the vectors\r\n",
        "\treturn K.sqrt(K.maximum(sumSquared, K.epsilon()))"
      ],
      "execution_count": null,
      "outputs": []
    },
    {
      "cell_type": "code",
      "metadata": {
        "id": "W0LWj3BuxIBv"
      },
      "source": [
        "def plot_training(H, plotPath):\r\n",
        "\t# construct a plot that plots and saves the training history\r\n",
        "\tplt.style.use(\"ggplot\")\r\n",
        "\tplt.figure()\r\n",
        "\tplt.plot(H.history[\"loss\"], label=\"train_loss\")\r\n",
        "\tplt.plot(H.history[\"val_loss\"], label=\"val_loss\")\r\n",
        "\tplt.plot(H.history[\"accuracy\"], label=\"train_acc\")\r\n",
        "\tplt.plot(H.history[\"val_accuracy\"], label=\"val_acc\")\r\n",
        "\tplt.title(\"Training Loss and Accuracy\")\r\n",
        "\tplt.xlabel(\"Epoch #\")\r\n",
        "\tplt.ylabel(\"Loss/Accuracy\")\r\n",
        "\tplt.legend(loc=\"lower left\")\r\n",
        "\tplt.savefig(plotPath)"
      ],
      "execution_count": null,
      "outputs": []
    },
    {
      "cell_type": "markdown",
      "metadata": {
        "id": "-HNDUHlnxYvK"
      },
      "source": [
        "## Train Network"
      ]
    },
    {
      "cell_type": "code",
      "metadata": {
        "id": "hPShpDmfzaku"
      },
      "source": [
        "from tensorflow.keras.models import Model\r\n",
        "from tensorflow.keras.layers import Dense\r\n",
        "from tensorflow.keras.layers import Input\r\n",
        "from tensorflow.keras.layers import Lambda\r\n",
        "from tensorflow.keras.datasets import mnist\r\n",
        "import numpy as np\r\n",
        "import os"
      ],
      "execution_count": null,
      "outputs": []
    },
    {
      "cell_type": "code",
      "metadata": {
        "id": "l3xLTtFPzvYR"
      },
      "source": [
        "IMG_SHAPE = (28, 28, 1)\r\n",
        "# specify the batch size and number of epochs\r\n",
        "BATCH_SIZE = 64\r\n",
        "EPOCHS = 100\r\n",
        "MODEL_PATH = os.path.sep.join([\"out\", \"siamese_model\"])\r\n",
        "PLOT_PATH = os.path.sep.join([\"out\", \"plot.png\"])"
      ],
      "execution_count": null,
      "outputs": []
    },
    {
      "cell_type": "code",
      "metadata": {
        "colab": {
          "base_uri": "https://localhost:8080/"
        },
        "id": "8aNv4okq4f03",
        "outputId": "be0d43fb-f10f-418c-c3f8-b85818051941"
      },
      "source": [
        "(trainX, trainY), (testX, testY) = mnist.load_data()\r\n",
        "trainX = trainX / 255.0\r\n",
        "testX = testX / 255.0\r\n",
        "# add a channel dimension to the images\r\n",
        "trainX = np.expand_dims(trainX, axis=-1)\r\n",
        "testX = np.expand_dims(testX, axis=-1)\r\n",
        "# prepare the positive and negative pairs\r\n",
        "print(\"[INFO] preparing positive and negative pairs...\")\r\n",
        "(pairTrain, labelTrain) = make_pairs(trainX, trainY)\r\n",
        "(pairTest, labelTest) = make_pairs(testX, testY)"
      ],
      "execution_count": null,
      "outputs": [
        {
          "output_type": "stream",
          "text": [
            "[INFO] preparing positive and negative pairs...\n"
          ],
          "name": "stdout"
        }
      ]
    },
    {
      "cell_type": "code",
      "metadata": {
        "id": "1YZPK6G8xMFy"
      },
      "source": [
        "imgA = Input(shape=IMG_SHAPE)\r\n",
        "imgB = Input(shape=IMG_SHAPE)\r\n",
        "featureExtractor = build_siamese_model(IMG_SHAPE, \"flow\")\r\n",
        "featsA = featureExtractor(imgA)\r\n",
        "featsB = featureExtractor(imgB)"
      ],
      "execution_count": null,
      "outputs": []
    },
    {
      "cell_type": "code",
      "metadata": {
        "id": "z0939bFny0GO"
      },
      "source": [
        "distance = Lambda(euclidean_distance)([featsA, featsB])\r\n",
        "outputs = Dense(1, activation=\"sigmoid\")(distance)\r\n",
        "model = Model(inputs=[imgA, imgB], outputs=outputs)"
      ],
      "execution_count": null,
      "outputs": []
    },
    {
      "cell_type": "code",
      "metadata": {
        "colab": {
          "base_uri": "https://localhost:8080/"
        },
        "id": "9EK_SUD6zCx1",
        "outputId": "e8a8a5a9-e6b1-4f2a-9ab4-1ac04df05e4e"
      },
      "source": [
        "model.compile(loss=\"binary_crossentropy\", optimizer=\"adam\", metrics=[\"accuracy\"])\r\n",
        "# train the model\r\n",
        "print(\"[INFO] training model...\")\r\n",
        "history = model.fit(\r\n",
        "\t[pairTrain[:, 0], pairTrain[:, 1]], labelTrain[:],\r\n",
        "\tvalidation_data=([pairTest[:, 0], pairTest[:, 1]], labelTest[:]),\r\n",
        "\tbatch_size=BATCH_SIZE, \r\n",
        "\tepochs=EPOCHS)"
      ],
      "execution_count": null,
      "outputs": [
        {
          "output_type": "stream",
          "text": [
            "[INFO] training model...\n",
            "Epoch 1/100\n",
            "1875/1875 [==============================] - 11s 6ms/step - loss: 0.6220 - accuracy: 0.6429 - val_loss: 0.5632 - val_accuracy: 0.7315\n",
            "Epoch 2/100\n",
            "1875/1875 [==============================] - 11s 6ms/step - loss: 0.5423 - accuracy: 0.7336 - val_loss: 0.4776 - val_accuracy: 0.7872\n",
            "Epoch 3/100\n",
            "1875/1875 [==============================] - 11s 6ms/step - loss: 0.4977 - accuracy: 0.7613 - val_loss: 0.4471 - val_accuracy: 0.8030\n",
            "Epoch 4/100\n",
            "1875/1875 [==============================] - 11s 6ms/step - loss: 0.4744 - accuracy: 0.7751 - val_loss: 0.4223 - val_accuracy: 0.8117\n",
            "Epoch 5/100\n",
            "1875/1875 [==============================] - 11s 6ms/step - loss: 0.4556 - accuracy: 0.7871 - val_loss: 0.3950 - val_accuracy: 0.8278\n",
            "Epoch 6/100\n",
            "1875/1875 [==============================] - 11s 6ms/step - loss: 0.4391 - accuracy: 0.7961 - val_loss: 0.3879 - val_accuracy: 0.8300\n",
            "Epoch 7/100\n",
            "1875/1875 [==============================] - 11s 6ms/step - loss: 0.4239 - accuracy: 0.8055 - val_loss: 0.3688 - val_accuracy: 0.8382\n",
            "Epoch 8/100\n",
            "1875/1875 [==============================] - 11s 6ms/step - loss: 0.4164 - accuracy: 0.8107 - val_loss: 0.3571 - val_accuracy: 0.8456\n",
            "Epoch 9/100\n",
            "1875/1875 [==============================] - 11s 6ms/step - loss: 0.4076 - accuracy: 0.8153 - val_loss: 0.3492 - val_accuracy: 0.8490\n",
            "Epoch 10/100\n",
            "1875/1875 [==============================] - 11s 6ms/step - loss: 0.4004 - accuracy: 0.8203 - val_loss: 0.3337 - val_accuracy: 0.8595\n",
            "Epoch 11/100\n",
            "1875/1875 [==============================] - 11s 6ms/step - loss: 0.3981 - accuracy: 0.8197 - val_loss: 0.3395 - val_accuracy: 0.8533\n",
            "Epoch 12/100\n",
            "1875/1875 [==============================] - 11s 6ms/step - loss: 0.3927 - accuracy: 0.8243 - val_loss: 0.3486 - val_accuracy: 0.8470\n",
            "Epoch 13/100\n",
            "1875/1875 [==============================] - 11s 6ms/step - loss: 0.3890 - accuracy: 0.8265 - val_loss: 0.3414 - val_accuracy: 0.8503\n",
            "Epoch 14/100\n",
            "1875/1875 [==============================] - 11s 6ms/step - loss: 0.3873 - accuracy: 0.8266 - val_loss: 0.3392 - val_accuracy: 0.8525\n",
            "Epoch 15/100\n",
            "1875/1875 [==============================] - 11s 6ms/step - loss: 0.3826 - accuracy: 0.8297 - val_loss: 0.3269 - val_accuracy: 0.8593\n",
            "Epoch 16/100\n",
            "1875/1875 [==============================] - 11s 6ms/step - loss: 0.3779 - accuracy: 0.8312 - val_loss: 0.3187 - val_accuracy: 0.8646\n",
            "Epoch 17/100\n",
            "1875/1875 [==============================] - 11s 6ms/step - loss: 0.3772 - accuracy: 0.8317 - val_loss: 0.3164 - val_accuracy: 0.8662\n",
            "Epoch 18/100\n",
            "1875/1875 [==============================] - 11s 6ms/step - loss: 0.3731 - accuracy: 0.8338 - val_loss: 0.3270 - val_accuracy: 0.8573\n",
            "Epoch 19/100\n",
            "1875/1875 [==============================] - 11s 6ms/step - loss: 0.3728 - accuracy: 0.8349 - val_loss: 0.3085 - val_accuracy: 0.8702\n",
            "Epoch 20/100\n",
            "1875/1875 [==============================] - 11s 6ms/step - loss: 0.3707 - accuracy: 0.8370 - val_loss: 0.3241 - val_accuracy: 0.8601\n",
            "Epoch 21/100\n",
            "1875/1875 [==============================] - 11s 6ms/step - loss: 0.3671 - accuracy: 0.8375 - val_loss: 0.3123 - val_accuracy: 0.8666\n",
            "Epoch 22/100\n",
            "1875/1875 [==============================] - 11s 6ms/step - loss: 0.3668 - accuracy: 0.8378 - val_loss: 0.3026 - val_accuracy: 0.8720\n",
            "Epoch 23/100\n",
            "1875/1875 [==============================] - 11s 6ms/step - loss: 0.3637 - accuracy: 0.8402 - val_loss: 0.3220 - val_accuracy: 0.8618\n",
            "Epoch 24/100\n",
            "1875/1875 [==============================] - 11s 6ms/step - loss: 0.3632 - accuracy: 0.8403 - val_loss: 0.3151 - val_accuracy: 0.8662\n",
            "Epoch 25/100\n",
            "1875/1875 [==============================] - 11s 6ms/step - loss: 0.3624 - accuracy: 0.8402 - val_loss: 0.3085 - val_accuracy: 0.8699\n",
            "Epoch 26/100\n",
            "1875/1875 [==============================] - 11s 6ms/step - loss: 0.3598 - accuracy: 0.8413 - val_loss: 0.3248 - val_accuracy: 0.8590\n",
            "Epoch 27/100\n",
            "1875/1875 [==============================] - 11s 6ms/step - loss: 0.3593 - accuracy: 0.8412 - val_loss: 0.2976 - val_accuracy: 0.8749\n",
            "Epoch 28/100\n",
            "1875/1875 [==============================] - 11s 6ms/step - loss: 0.3567 - accuracy: 0.8435 - val_loss: 0.3125 - val_accuracy: 0.8665\n",
            "Epoch 29/100\n",
            "1875/1875 [==============================] - 11s 6ms/step - loss: 0.3583 - accuracy: 0.8420 - val_loss: 0.3142 - val_accuracy: 0.8659\n",
            "Epoch 30/100\n",
            "1875/1875 [==============================] - 11s 6ms/step - loss: 0.3544 - accuracy: 0.8453 - val_loss: 0.3324 - val_accuracy: 0.8546\n",
            "Epoch 31/100\n",
            "1875/1875 [==============================] - 11s 6ms/step - loss: 0.3540 - accuracy: 0.8459 - val_loss: 0.3038 - val_accuracy: 0.8709\n",
            "Epoch 32/100\n",
            "1875/1875 [==============================] - 11s 6ms/step - loss: 0.3518 - accuracy: 0.8467 - val_loss: 0.3011 - val_accuracy: 0.8721\n",
            "Epoch 33/100\n",
            "1875/1875 [==============================] - 11s 6ms/step - loss: 0.3504 - accuracy: 0.8483 - val_loss: 0.3302 - val_accuracy: 0.8552\n",
            "Epoch 34/100\n",
            "1875/1875 [==============================] - 11s 6ms/step - loss: 0.3496 - accuracy: 0.8475 - val_loss: 0.3068 - val_accuracy: 0.8684\n",
            "Epoch 35/100\n",
            "1875/1875 [==============================] - 11s 6ms/step - loss: 0.3497 - accuracy: 0.8465 - val_loss: 0.3088 - val_accuracy: 0.8674\n",
            "Epoch 36/100\n",
            "1875/1875 [==============================] - 11s 6ms/step - loss: 0.3478 - accuracy: 0.8481 - val_loss: 0.2920 - val_accuracy: 0.8770\n",
            "Epoch 37/100\n",
            "1875/1875 [==============================] - 11s 6ms/step - loss: 0.3484 - accuracy: 0.8481 - val_loss: 0.2916 - val_accuracy: 0.8775\n",
            "Epoch 38/100\n",
            "1875/1875 [==============================] - 11s 6ms/step - loss: 0.3455 - accuracy: 0.8513 - val_loss: 0.2859 - val_accuracy: 0.8806\n",
            "Epoch 39/100\n",
            "1875/1875 [==============================] - 11s 6ms/step - loss: 0.3429 - accuracy: 0.8497 - val_loss: 0.2934 - val_accuracy: 0.8783\n",
            "Epoch 40/100\n",
            "1875/1875 [==============================] - 11s 6ms/step - loss: 0.3437 - accuracy: 0.8502 - val_loss: 0.3015 - val_accuracy: 0.8706\n",
            "Epoch 41/100\n",
            "1875/1875 [==============================] - 11s 6ms/step - loss: 0.3441 - accuracy: 0.8499 - val_loss: 0.2996 - val_accuracy: 0.8716\n",
            "Epoch 42/100\n",
            "1875/1875 [==============================] - 11s 6ms/step - loss: 0.3414 - accuracy: 0.8517 - val_loss: 0.2876 - val_accuracy: 0.8802\n",
            "Epoch 43/100\n",
            "1875/1875 [==============================] - 11s 6ms/step - loss: 0.3438 - accuracy: 0.8514 - val_loss: 0.2947 - val_accuracy: 0.8769\n",
            "Epoch 44/100\n",
            "1875/1875 [==============================] - 11s 6ms/step - loss: 0.3405 - accuracy: 0.8527 - val_loss: 0.2972 - val_accuracy: 0.8758\n",
            "Epoch 45/100\n",
            "1875/1875 [==============================] - 11s 6ms/step - loss: 0.3405 - accuracy: 0.8528 - val_loss: 0.2900 - val_accuracy: 0.8784\n",
            "Epoch 46/100\n",
            "1875/1875 [==============================] - 11s 6ms/step - loss: 0.3404 - accuracy: 0.8528 - val_loss: 0.2973 - val_accuracy: 0.8751\n",
            "Epoch 47/100\n",
            "1875/1875 [==============================] - 11s 6ms/step - loss: 0.3406 - accuracy: 0.8531 - val_loss: 0.3142 - val_accuracy: 0.8650\n",
            "Epoch 48/100\n",
            "1875/1875 [==============================] - 11s 6ms/step - loss: 0.3401 - accuracy: 0.8517 - val_loss: 0.2791 - val_accuracy: 0.8853\n",
            "Epoch 49/100\n",
            "1875/1875 [==============================] - 11s 6ms/step - loss: 0.3407 - accuracy: 0.8523 - val_loss: 0.3019 - val_accuracy: 0.8723\n",
            "Epoch 50/100\n",
            "1875/1875 [==============================] - 11s 6ms/step - loss: 0.3372 - accuracy: 0.8531 - val_loss: 0.2917 - val_accuracy: 0.8771\n",
            "Epoch 51/100\n",
            "1875/1875 [==============================] - 11s 6ms/step - loss: 0.3394 - accuracy: 0.8535 - val_loss: 0.3022 - val_accuracy: 0.8704\n",
            "Epoch 52/100\n",
            "1875/1875 [==============================] - 11s 6ms/step - loss: 0.3399 - accuracy: 0.8528 - val_loss: 0.2990 - val_accuracy: 0.8730\n",
            "Epoch 53/100\n",
            "1875/1875 [==============================] - 11s 6ms/step - loss: 0.3390 - accuracy: 0.8534 - val_loss: 0.2883 - val_accuracy: 0.8780\n",
            "Epoch 54/100\n",
            "1875/1875 [==============================] - 11s 6ms/step - loss: 0.3375 - accuracy: 0.8548 - val_loss: 0.2854 - val_accuracy: 0.8807\n",
            "Epoch 55/100\n",
            "1875/1875 [==============================] - 11s 6ms/step - loss: 0.3389 - accuracy: 0.8540 - val_loss: 0.2804 - val_accuracy: 0.8849\n",
            "Epoch 56/100\n",
            "1875/1875 [==============================] - 11s 6ms/step - loss: 0.3353 - accuracy: 0.8549 - val_loss: 0.2882 - val_accuracy: 0.8784\n",
            "Epoch 57/100\n",
            "1875/1875 [==============================] - 11s 6ms/step - loss: 0.3372 - accuracy: 0.8544 - val_loss: 0.2980 - val_accuracy: 0.8741\n",
            "Epoch 58/100\n",
            "1875/1875 [==============================] - 11s 6ms/step - loss: 0.3337 - accuracy: 0.8561 - val_loss: 0.3169 - val_accuracy: 0.8616\n",
            "Epoch 59/100\n",
            "1875/1875 [==============================] - 11s 6ms/step - loss: 0.3373 - accuracy: 0.8544 - val_loss: 0.2930 - val_accuracy: 0.8758\n",
            "Epoch 60/100\n",
            "1875/1875 [==============================] - 11s 6ms/step - loss: 0.3343 - accuracy: 0.8557 - val_loss: 0.2847 - val_accuracy: 0.8814\n",
            "Epoch 61/100\n",
            "1875/1875 [==============================] - 11s 6ms/step - loss: 0.3362 - accuracy: 0.8544 - val_loss: 0.2963 - val_accuracy: 0.8749\n",
            "Epoch 62/100\n",
            "1875/1875 [==============================] - 11s 6ms/step - loss: 0.3343 - accuracy: 0.8553 - val_loss: 0.2987 - val_accuracy: 0.8711\n",
            "Epoch 63/100\n",
            "1875/1875 [==============================] - 11s 6ms/step - loss: 0.3349 - accuracy: 0.8553 - val_loss: 0.2920 - val_accuracy: 0.8776\n",
            "Epoch 64/100\n",
            "1875/1875 [==============================] - 11s 6ms/step - loss: 0.3315 - accuracy: 0.8569 - val_loss: 0.2996 - val_accuracy: 0.8741\n",
            "Epoch 65/100\n",
            "1875/1875 [==============================] - 11s 6ms/step - loss: 0.3352 - accuracy: 0.8562 - val_loss: 0.2801 - val_accuracy: 0.8824\n",
            "Epoch 66/100\n",
            "1875/1875 [==============================] - 11s 6ms/step - loss: 0.3315 - accuracy: 0.8562 - val_loss: 0.2887 - val_accuracy: 0.8784\n",
            "Epoch 67/100\n",
            "1875/1875 [==============================] - 11s 6ms/step - loss: 0.3327 - accuracy: 0.8556 - val_loss: 0.2922 - val_accuracy: 0.8767\n",
            "Epoch 68/100\n",
            "1875/1875 [==============================] - 11s 6ms/step - loss: 0.3342 - accuracy: 0.8564 - val_loss: 0.2985 - val_accuracy: 0.8734\n",
            "Epoch 69/100\n",
            "1875/1875 [==============================] - 11s 6ms/step - loss: 0.3339 - accuracy: 0.8548 - val_loss: 0.2940 - val_accuracy: 0.8765\n",
            "Epoch 70/100\n",
            "1875/1875 [==============================] - 11s 6ms/step - loss: 0.3339 - accuracy: 0.8550 - val_loss: 0.3212 - val_accuracy: 0.8605\n",
            "Epoch 71/100\n",
            "1875/1875 [==============================] - 11s 6ms/step - loss: 0.3311 - accuracy: 0.8574 - val_loss: 0.2912 - val_accuracy: 0.8776\n",
            "Epoch 72/100\n",
            "1875/1875 [==============================] - 11s 6ms/step - loss: 0.3325 - accuracy: 0.8563 - val_loss: 0.2984 - val_accuracy: 0.8720\n",
            "Epoch 73/100\n",
            "1875/1875 [==============================] - 11s 6ms/step - loss: 0.3308 - accuracy: 0.8581 - val_loss: 0.3194 - val_accuracy: 0.8587\n",
            "Epoch 74/100\n",
            "1875/1875 [==============================] - 11s 6ms/step - loss: 0.3325 - accuracy: 0.8569 - val_loss: 0.2920 - val_accuracy: 0.8759\n",
            "Epoch 75/100\n",
            "1875/1875 [==============================] - 11s 6ms/step - loss: 0.3310 - accuracy: 0.8568 - val_loss: 0.2911 - val_accuracy: 0.8766\n",
            "Epoch 76/100\n",
            "1875/1875 [==============================] - 11s 6ms/step - loss: 0.3300 - accuracy: 0.8576 - val_loss: 0.3014 - val_accuracy: 0.8719\n",
            "Epoch 77/100\n",
            "1875/1875 [==============================] - 11s 6ms/step - loss: 0.3291 - accuracy: 0.8577 - val_loss: 0.3010 - val_accuracy: 0.8707\n",
            "Epoch 78/100\n",
            "1875/1875 [==============================] - 11s 6ms/step - loss: 0.3299 - accuracy: 0.8570 - val_loss: 0.2837 - val_accuracy: 0.8800\n",
            "Epoch 79/100\n",
            "1875/1875 [==============================] - 11s 6ms/step - loss: 0.3326 - accuracy: 0.8563 - val_loss: 0.2701 - val_accuracy: 0.8874\n",
            "Epoch 80/100\n",
            "1875/1875 [==============================] - 11s 6ms/step - loss: 0.3310 - accuracy: 0.8568 - val_loss: 0.2827 - val_accuracy: 0.8810\n",
            "Epoch 81/100\n",
            "1875/1875 [==============================] - 11s 6ms/step - loss: 0.3304 - accuracy: 0.8579 - val_loss: 0.2951 - val_accuracy: 0.8740\n",
            "Epoch 82/100\n",
            "1875/1875 [==============================] - 11s 6ms/step - loss: 0.3309 - accuracy: 0.8572 - val_loss: 0.2955 - val_accuracy: 0.8741\n",
            "Epoch 83/100\n",
            "1875/1875 [==============================] - 11s 6ms/step - loss: 0.3310 - accuracy: 0.8581 - val_loss: 0.3147 - val_accuracy: 0.8636\n",
            "Epoch 84/100\n",
            "1875/1875 [==============================] - 11s 6ms/step - loss: 0.3293 - accuracy: 0.8583 - val_loss: 0.3028 - val_accuracy: 0.8702\n",
            "Epoch 85/100\n",
            "1875/1875 [==============================] - 11s 6ms/step - loss: 0.3271 - accuracy: 0.8590 - val_loss: 0.3091 - val_accuracy: 0.8669\n",
            "Epoch 86/100\n",
            "1875/1875 [==============================] - 11s 6ms/step - loss: 0.3287 - accuracy: 0.8575 - val_loss: 0.2778 - val_accuracy: 0.8838\n",
            "Epoch 87/100\n",
            "1875/1875 [==============================] - 11s 6ms/step - loss: 0.3301 - accuracy: 0.8588 - val_loss: 0.2965 - val_accuracy: 0.8731\n",
            "Epoch 88/100\n",
            "1875/1875 [==============================] - 11s 6ms/step - loss: 0.3287 - accuracy: 0.8575 - val_loss: 0.2982 - val_accuracy: 0.8733\n",
            "Epoch 89/100\n",
            "1875/1875 [==============================] - 11s 6ms/step - loss: 0.3297 - accuracy: 0.8590 - val_loss: 0.2699 - val_accuracy: 0.8890\n",
            "Epoch 90/100\n",
            "1875/1875 [==============================] - 11s 6ms/step - loss: 0.3314 - accuracy: 0.8572 - val_loss: 0.2839 - val_accuracy: 0.8817\n",
            "Epoch 91/100\n",
            "1875/1875 [==============================] - 11s 6ms/step - loss: 0.3269 - accuracy: 0.8592 - val_loss: 0.2730 - val_accuracy: 0.8849\n",
            "Epoch 92/100\n",
            "1875/1875 [==============================] - 11s 6ms/step - loss: 0.3282 - accuracy: 0.8587 - val_loss: 0.2829 - val_accuracy: 0.8811\n",
            "Epoch 93/100\n",
            "1875/1875 [==============================] - 11s 6ms/step - loss: 0.3287 - accuracy: 0.8587 - val_loss: 0.2920 - val_accuracy: 0.8770\n",
            "Epoch 94/100\n",
            "1875/1875 [==============================] - 11s 6ms/step - loss: 0.3286 - accuracy: 0.8595 - val_loss: 0.2852 - val_accuracy: 0.8805\n",
            "Epoch 95/100\n",
            "1875/1875 [==============================] - 11s 6ms/step - loss: 0.3263 - accuracy: 0.8601 - val_loss: 0.3033 - val_accuracy: 0.8696\n",
            "Epoch 96/100\n",
            "1875/1875 [==============================] - 11s 6ms/step - loss: 0.3272 - accuracy: 0.8594 - val_loss: 0.2815 - val_accuracy: 0.8812\n",
            "Epoch 97/100\n",
            "1875/1875 [==============================] - 11s 6ms/step - loss: 0.3273 - accuracy: 0.8585 - val_loss: 0.2903 - val_accuracy: 0.8779\n",
            "Epoch 98/100\n",
            "1875/1875 [==============================] - 11s 6ms/step - loss: 0.3266 - accuracy: 0.8594 - val_loss: 0.2784 - val_accuracy: 0.8834\n",
            "Epoch 99/100\n",
            "1875/1875 [==============================] - 11s 6ms/step - loss: 0.3299 - accuracy: 0.8578 - val_loss: 0.2924 - val_accuracy: 0.8758\n",
            "Epoch 100/100\n",
            "1875/1875 [==============================] - 11s 6ms/step - loss: 0.3272 - accuracy: 0.8592 - val_loss: 0.2774 - val_accuracy: 0.8836\n"
          ],
          "name": "stdout"
        }
      ]
    },
    {
      "cell_type": "markdown",
      "metadata": {
        "id": "--8kRocO-nrr"
      },
      "source": [
        "## Save model"
      ]
    },
    {
      "cell_type": "code",
      "metadata": {
        "colab": {
          "base_uri": "https://localhost:8080/"
        },
        "id": "bDRQCtApzndt",
        "outputId": "854e1cd4-6d42-497a-c73b-06b2dccf0a98"
      },
      "source": [
        "model.save(MODEL_PATH)"
      ],
      "execution_count": null,
      "outputs": [
        {
          "output_type": "stream",
          "text": [
            "WARNING:tensorflow:From /usr/local/lib/python3.6/dist-packages/tensorflow/python/training/tracking/tracking.py:111: Model.state_updates (from tensorflow.python.keras.engine.training) is deprecated and will be removed in a future version.\n",
            "Instructions for updating:\n",
            "This property should not be used in TensorFlow 2.0, as updates are applied automatically.\n",
            "WARNING:tensorflow:From /usr/local/lib/python3.6/dist-packages/tensorflow/python/training/tracking/tracking.py:111: Layer.updates (from tensorflow.python.keras.engine.base_layer) is deprecated and will be removed in a future version.\n",
            "Instructions for updating:\n",
            "This property should not be used in TensorFlow 2.0, as updates are applied automatically.\n",
            "INFO:tensorflow:Assets written to: out/siamese_model/assets\n"
          ],
          "name": "stdout"
        }
      ]
    },
    {
      "cell_type": "code",
      "metadata": {
        "colab": {
          "base_uri": "https://localhost:8080/",
          "height": 299
        },
        "id": "1aFLohDw-qgt",
        "outputId": "27c04e94-22fd-41f0-b1d4-d3dde863019d"
      },
      "source": [
        "plot_training(history, PLOT_PATH)\r\n"
      ],
      "execution_count": null,
      "outputs": [
        {
          "output_type": "display_data",
          "data": {
            "image/png": "[encoded data removed]",
            "text/plain": [
              "<Figure size 432x288 with 1 Axes>"
            ]
          },
          "metadata": {
            "tags": []
          }
        }
      ]
    },
    {
      "cell_type": "markdown",
      "metadata": {
        "id": "cMhBvG6MAPWJ"
      },
      "source": [
        "## Load and Test model"
      ]
    },
    {
      "cell_type": "code",
      "metadata": {
        "id": "tDkLFbN8-wmX"
      },
      "source": [
        "from tensorflow.keras.models import load_model\r\n",
        "from imutils.paths import list_images\r\n",
        "import matplotlib.pyplot as plt\r\n",
        "import numpy as np\r\n",
        "import cv2"
      ],
      "execution_count": 1,
      "outputs": []
    },
    {
      "cell_type": "code",
      "metadata": {
        "id": "qO-A9yVNDrei"
      },
      "source": [
        "model = load_model(\"./out/siamese_model/\")"
      ],
      "execution_count": 3,
      "outputs": []
    },
    {
      "cell_type": "code",
      "metadata": {
        "colab": {
          "base_uri": "https://localhost:8080/"
        },
        "id": "GS8qZ6XqgWa3",
        "outputId": "d86f5343-b5db-475c-80c5-1b28d1e196f3"
      },
      "source": [
        "!unzip test.zip"
      ],
      "execution_count": null,
      "outputs": [
        {
          "output_type": "stream",
          "text": [
            "Archive:  test.zip\n",
            " extracting: test/0.jpg              \n",
            "  inflating: test/1.jpg              \n",
            "  inflating: test/10.jpg             \n",
            "  inflating: test/11.jpg             \n",
            " extracting: test/12.jpg             \n",
            "  inflating: test/13.jpg             \n",
            "  inflating: test/14.jpg             \n",
            "  inflating: test/15.jpg             \n",
            "  inflating: test/16.jpg             \n",
            "  inflating: test/17.jpg             \n",
            "  inflating: test/18.jpg             \n",
            "  inflating: test/19.jpg             \n",
            " extracting: test/2.jpg              \n",
            "  inflating: test/3.jpg              \n",
            " extracting: test/4.jpg              \n",
            "  inflating: test/5.jpg              \n",
            "  inflating: test/6.jpg              \n",
            " extracting: test/7.jpg              \n",
            "  inflating: test/8.jpg              \n",
            "  inflating: test/9.jpg              \n"
          ],
          "name": "stdout"
        }
      ]
    },
    {
      "cell_type": "code",
      "metadata": {
        "id": "M6rKVmDLEF_G"
      },
      "source": [
        "test_path = \"./test/\"\r\n",
        "image_paths = [\"./test/\"+w for w in os.listdir(test_path)]\r\n",
        "from itertools import combinations\r\n",
        "pairs = [w for w in combinations(image_paths, 2)][:5]"
      ],
      "execution_count": null,
      "outputs": []
    },
    {
      "cell_type": "code",
      "metadata": {
        "colab": {
          "base_uri": "https://localhost:8080/",
          "height": 682
        },
        "id": "XGXyS4UpCM45",
        "outputId": "cb31814e-3521-487c-f3f1-b8aaac6a8e06"
      },
      "source": [
        "for (i, (pathA, pathB)) in enumerate(pairs):\r\n",
        "  # load both the images and convert them to grayscale\r\n",
        "  imageA = cv2.imread(pathA, 0)\r\n",
        "  imageB = cv2.imread(pathB, 0)\r\n",
        "  # create a copy of both the images for visualization purpose\r\n",
        "  origA = imageA.copy()\r\n",
        "  origB = imageB.copy()\r\n",
        "  # add channel a dimension to both the images\r\n",
        "  imageA = np.expand_dims(imageA, axis=-1)\r\n",
        "  imageB = np.expand_dims(imageB, axis=-1)\r\n",
        "  # add a batch dimension to both images\r\n",
        "  imageA = np.expand_dims(imageA, axis=0)\r\n",
        "  imageB = np.expand_dims(imageB, axis=0)\r\n",
        "  # scale the pixel values to the range of [0, 1]\r\n",
        "  imageA = imageA / 255.0\r\n",
        "  imageB = imageB / 255.0\r\n",
        "  # use our siamese model to make predictions on the image pair,\r\n",
        "  # indicating whether or not the images belong to the same class\r\n",
        "  preds = model.predict([imageA, imageB])\r\n",
        "  proba = preds[0][0]\r\n",
        "  fig = plt.figure(\"Pair #{}\".format(i + 1), figsize=(4, 2))\r\n",
        "  plt.suptitle(\"Similarity: {:.2f}\".format(proba))\r\n",
        "  # show first image\r\n",
        "  ax = fig.add_subplot(1, 2, 1)\r\n",
        "  plt.imshow(origA, cmap=plt.cm.gray)\r\n",
        "  plt.axis(\"off\")\r\n",
        "  # show the second image\r\n",
        "  ax = fig.add_subplot(1, 2, 2)\r\n",
        "  plt.imshow(origB, cmap=plt.cm.gray)\r\n",
        "  plt.axis(\"off\")\r\n",
        "  # show the plot\r\n",
        "  plt.show()"
      ],
      "execution_count": null,
      "outputs": [
        {
          "output_type": "display_data",
          "data": {
            "image/png": "[encoded data removed]",
            "text/plain": [
              "<Figure size 288x144 with 2 Axes>"
            ]
          },
          "metadata": {
            "tags": []
          }
        },
        {
          "output_type": "display_data",
          "data": {
            "image/png": "[encoded data removed]",
            "text/plain": [
              "<Figure size 288x144 with 2 Axes>"
            ]
          },
          "metadata": {
            "tags": []
          }
        },
        {
          "output_type": "display_data",
          "data": {
            "image/png": "[encoded data removed]",
            "text/plain": [
              "<Figure size 288x144 with 2 Axes>"
            ]
          },
          "metadata": {
            "tags": []
          }
        },
        {
          "output_type": "display_data",
          "data": {
            "image/png": "[encoded data removed]",
            "text/plain": [
              "<Figure size 288x144 with 2 Axes>"
            ]
          },
          "metadata": {
            "tags": []
          }
        },
        {
          "output_type": "display_data",
          "data": {
            "image/png": "[encoded data removed]",
            "text/plain": [
              "<Figure size 288x144 with 2 Axes>"
            ]
          },
          "metadata": {
            "tags": []
          }
        }
      ]
    },
    {
      "cell_type": "markdown",
      "metadata": {
        "id": "xi22qT8zFeAR"
      },
      "source": [
        "# Convert Object Classification to Object Detection Model\r\n",
        "### Contents\r\n",
        "#### 1. Construct Image Pramid\r\n",
        "#### 2. Run sliding window for each scale and record box, label if confidence > threshold\r\n",
        "#### 3. Build Datasetto calculate probabilities of each window\r\n",
        "#### 4. Run model on extracted sliding window + pyramid images\r\n",
        "#### 5. Non Max Supression with OpenCV"
      ]
    },
    {
      "cell_type": "markdown",
      "metadata": {
        "id": "nbTLwJ0rHNRP"
      },
      "source": [
        "## Construct Image Pyramid"
      ]
    },
    {
      "cell_type": "code",
      "metadata": {
        "id": "dQuE3cLgDx5D"
      },
      "source": [
        "import imutils\r\n",
        "import time\r\n",
        "from tensorflow.keras.applications import imagenet_utils\r\n",
        "from imutils.object_detection import non_max_suppression"
      ],
      "execution_count": 6,
      "outputs": []
    },
    {
      "cell_type": "code",
      "metadata": {
        "id": "dUb0S6HRIccx"
      },
      "source": [
        "WIDTH = 28\r\n",
        "PYR_SCALE = 1.5\r\n",
        "WIN_STEP = 16\r\n",
        "ROI_SIZE = (28,28)\r\n",
        "INPUT_SIZE = (28, 28)"
      ],
      "execution_count": 7,
      "outputs": []
    },
    {
      "cell_type": "code",
      "metadata": {
        "id": "xpd9M7NdHwGl"
      },
      "source": [
        "def image_pyramid(image, scale=1.5, minSize=(224, 224)):\r\n",
        "\t# yield the original image\r\n",
        "\tyield image\r\n",
        "\t# keep looping over the image pyramid\r\n",
        "\twhile True:\r\n",
        "\t\t# compute the dimensions of the next image in the pyramid\r\n",
        "\t\tw = int(image.shape[1] / scale)\r\n",
        "\t\timage = imutils.resize(image, width=w)\r\n",
        "\t\t# if the resized image does not meet the supplied minimum\r\n",
        "\t\t# size, then stop constructing the pyramid\r\n",
        "\t\tif image.shape[0] < minSize[1] or image.shape[1] < minSize[0]:\r\n",
        "\t\t\tbreak\r\n",
        "\t\t# yield the next image in the pyramid\r\n",
        "\t\tyield image"
      ],
      "execution_count": 8,
      "outputs": []
    },
    {
      "cell_type": "code",
      "metadata": {
        "id": "oygvJUqOJM_3"
      },
      "source": [
        "orig = cv2.imread(\"./6.jpg\")\r\n",
        "H,W,_ = orig.shape\r\n",
        "pyramid = image_pyramid(orig, scale=PYR_SCALE, minSize=ROI_SIZE)\r\n",
        "rois = []\r\n",
        "locs = []"
      ],
      "execution_count": null,
      "outputs": []
    },
    {
      "cell_type": "markdown",
      "metadata": {
        "id": "EMg8G_SXaUIz"
      },
      "source": [
        "## Sliding Window"
      ]
    },
    {
      "cell_type": "code",
      "metadata": {
        "id": "QYoHNosaKt6n"
      },
      "source": [
        "def sliding_window(image, step, ws):\r\n",
        "\t# slide a window across the image\r\n",
        "\tfor y in range(0, image.shape[0] - ws[1], step):\r\n",
        "\t\tfor x in range(0, image.shape[1] - ws[0], step):\r\n",
        "\t\t\t# yield the current window\r\n",
        "\t\t\tyield (x, y, image[y:y + ws[1], x:x + ws[0]])"
      ],
      "execution_count": 9,
      "outputs": []
    },
    {
      "cell_type": "code",
      "metadata": {
        "id": "dLspoLNrJOV5"
      },
      "source": [
        "# loop over the image pyramid\r\n",
        "for image in pyramid:\r\n",
        "  # determine the scale factor between the *original* image\r\n",
        "  # dimensions and the *current* layer of the pyramid\r\n",
        "  scale = W / float(image.shape[1])\r\n",
        "  # for each layer of the image pyramid, loop over the sliding\r\n",
        "  # window locations\r\n",
        "  print(\"#\")\r\n",
        "  for (x, y, roiOrig) in sliding_window(image, WIN_STEP, ROI_SIZE):\r\n",
        "    # scale the (x, y)-coordinates of the ROI with respect to the\r\n",
        "    # *original* image dimensions\r\n",
        "    print(len(rois))\r\n",
        "    x = int(x * scale)\r\n",
        "    y = int(y * scale)\r\n",
        "    w = int(ROI_SIZE[0] * scale)\r\n",
        "    h = int(ROI_SIZE[1] * scale)\r\n",
        "    roi = cv2.resize(roiOrig, (28,28))\r\n",
        "    rois.append(roi)\r\n",
        "    locs.append((x, y, w, h))\r\n",
        "    clone = orig.copy()\r\n",
        "    cv2.rectangle(clone, (x, y), (x + w, y + h),\r\n",
        "      (0, 255, 0), 2)\r\n",
        "    # show the visualization and current ROI\r\n",
        "    cv2_imshow(clone)\r\n",
        "    cv2_imshow(roi)"
      ],
      "execution_count": null,
      "outputs": []
    },
    {
      "cell_type": "markdown",
      "metadata": {
        "id": "TxmB8qoSbXJf"
      },
      "source": [
        "## Build Dataset to calculate probabilities of an each window"
      ]
    },
    {
      "cell_type": "code",
      "metadata": {
        "id": "-qUy2TTbMCdL"
      },
      "source": [
        "def preprocess_img(im):\r\n",
        "  # print(im.shape)\r\n",
        "  im = cv2.cvtColor(im, cv2.COLOR_BGR2GRAY)\r\n",
        "  im = cv2.resize(im, (28,28))\r\n",
        "  im = np.expand_dims(im, axis=-1)\r\n",
        "  # print(\"here: \",im.shape)\r\n",
        "  return im"
      ],
      "execution_count": 10,
      "outputs": []
    },
    {
      "cell_type": "code",
      "metadata": {
        "colab": {
          "base_uri": "https://localhost:8080/"
        },
        "id": "MAx4TF9XLm8t",
        "outputId": "db51a237-e491-4629-e743-e13159de55af"
      },
      "source": [
        "cls_img = cv2.imread(\"./7.jpg\", 0)\r\n",
        "cls_img = np.expand_dims(cls_img, axis=-1)\r\n",
        "# cls_img = preprocess_img(cls_img)\r\n",
        "cls_img = np.array([cls_img]*len(rois))\r\n",
        "print(cls_img.shape)\r\n",
        "inputs = [preprocess_img(im) for im in rois]\r\n",
        "inputs = np.array(inputs)\r\n",
        "inputs = inputs/255.0\r\n",
        "cls_img = cls_img/255.0\r\n",
        "print(inputs.shape)"
      ],
      "execution_count": null,
      "outputs": [
        {
          "output_type": "stream",
          "text": [
            "(480, 28, 28, 1)\n",
            "(480, 28, 28, 1)\n"
          ],
          "name": "stdout"
        }
      ]
    },
    {
      "cell_type": "markdown",
      "metadata": {
        "id": "dJ1t1EM8bzCG"
      },
      "source": [
        "## Run model on extracted sliding window + pyramid images"
      ]
    },
    {
      "cell_type": "code",
      "metadata": {
        "id": "qXVStR7ZJ9Nk"
      },
      "source": [
        "preds = model.predict([inputs, cls_img])"
      ],
      "execution_count": null,
      "outputs": []
    },
    {
      "cell_type": "code",
      "metadata": {
        "id": "1J6Hq-_zYEy-"
      },
      "source": [
        "confidences = [float(w[0]) for w in preds]"
      ],
      "execution_count": null,
      "outputs": []
    },
    {
      "cell_type": "markdown",
      "metadata": {
        "id": "Cz1qLs3Ub5gC"
      },
      "source": [
        "## Non Max Suppression"
      ]
    },
    {
      "cell_type": "code",
      "metadata": {
        "colab": {
          "base_uri": "https://localhost:8080/",
          "height": 317
        },
        "id": "BQ79n0EmYS-V",
        "outputId": "be546040-1684-42ca-c6ab-ff0c4c5b3db4"
      },
      "source": [
        "orig = cv2.imread(\"./6.jpg\")\r\n",
        "indices = cv2.dnn.NMSBoxes(locs, confidences, 0.5, 0.2)\r\n",
        "for i in indices:\r\n",
        "  i = i [0]\r\n",
        "  x,y,w,h = locs[i]\r\n",
        "  cv2.rectangle(orig, (x,y),(x+w, y+h), (0,255,0))\r\n",
        "cv2_imshow(orig)"
      ],
      "execution_count": null,
      "outputs": [
        {
          "output_type": "display_data",
          "data": {
            "image/png": "[encoded data removed]",
            "text/plain": [
              "<PIL.Image.Image image mode=RGB size=300x300 at 0x7FE990108128>"
            ]
          },
          "metadata": {
            "tags": []
          }
        }
      ]
    },
    {
      "cell_type": "code",
      "metadata": {
        "id": "C3wDStYwc-nK"
      },
      "source": [
        "import pickle\r\n",
        "with open(\"locations.pickle\", 'wb') as f:\r\n",
        "  pickle.dump(locs, f)\r\n",
        "with open(\"confidences.pickle\", 'wb') as f:\r\n",
        "  pickle.dump(confidences, f)"
      ],
      "execution_count": null,
      "outputs": []
    },
    {
      "cell_type": "code",
      "metadata": {
        "colab": {
          "base_uri": "https://localhost:8080/"
        },
        "id": "tM2rfCznhszz",
        "outputId": "2e8bbf85-aff0-440f-aeba-586668e46c29"
      },
      "source": [
        "%%shell\r\n",
        "zip -r model.zip out"
      ],
      "execution_count": null,
      "outputs": [
        {
          "output_type": "stream",
          "text": [
            "  adding: out/ (stored 0%)\n",
            "  adding: out/siamese_model/ (stored 0%)\n",
            "  adding: out/siamese_model/variables/ (stored 0%)\n",
            "  adding: out/siamese_model/variables/variables.data-00000-of-00001 (deflated 14%)\n",
            "  adding: out/siamese_model/variables/variables.index (deflated 64%)\n",
            "  adding: out/siamese_model/saved_model.pb (deflated 90%)\n",
            "  adding: out/siamese_model/assets/ (stored 0%)\n",
            "  adding: out/plot.png (deflated 5%)\n"
          ],
          "name": "stdout"
        },
        {
          "output_type": "execute_result",
          "data": {
            "text/plain": [
              ""
            ]
          },
          "metadata": {
            "tags": []
          },
          "execution_count": 96
        }
      ]
    },
    {
      "cell_type": "markdown",
      "metadata": {
        "id": "Ni7LuwCO2aXr"
      },
      "source": [
        "## Calcuate MAP"
      ]
    },
    {
      "cell_type": "code",
      "metadata": {
        "id": "r36ljrEp5ImE"
      },
      "source": [
        "def preprocess_img(im):\r\n",
        "  # print(im.shape)\r\n",
        "  im = cv2.cvtColor(im, cv2.COLOR_BGR2GRAY)\r\n",
        "  im = cv2.resize(im, (28,28))\r\n",
        "  im = np.expand_dims(im, axis=-1)\r\n",
        "  # print(\"here: \",im.shape)\r\n",
        "  return im"
      ],
      "execution_count": 12,
      "outputs": []
    },
    {
      "cell_type": "code",
      "metadata": {
        "id": "uPCN9eJa5JPb"
      },
      "source": [
        "def image_pyramid(image, scale=1.5, minSize=(224, 224)):\r\n",
        "\t# yield the original image\r\n",
        "\tyield image\r\n",
        "\t# keep looping over the image pyramid\r\n",
        "\twhile True:\r\n",
        "\t\t# compute the dimensions of the next image in the pyramid\r\n",
        "\t\tw = int(image.shape[1] / scale)\r\n",
        "\t\timage = imutils.resize(image, width=w)\r\n",
        "\t\t# if the resized image does not meet the supplied minimum\r\n",
        "\t\t# size, then stop constructing the pyramid\r\n",
        "\t\tif image.shape[0] < minSize[1] or image.shape[1] < minSize[0]:\r\n",
        "\t\t\tbreak\r\n",
        "\t\t# yield the next image in the pyramid\r\n",
        "\t\tyield image"
      ],
      "execution_count": 13,
      "outputs": []
    },
    {
      "cell_type": "code",
      "metadata": {
        "id": "MQCBUj-Q5NY5"
      },
      "source": [
        "def sliding_window(image, step, ws):\r\n",
        "\t# slide a window across the image\r\n",
        "\tfor y in range(0, image.shape[0] - ws[1], step):\r\n",
        "\t\tfor x in range(0, image.shape[1] - ws[0], step):\r\n",
        "\t\t\t# yield the current window\r\n",
        "\t\t\tyield (x, y, image[y:y + ws[1], x:x + ws[0]])"
      ],
      "execution_count": 14,
      "outputs": []
    },
    {
      "cell_type": "code",
      "metadata": {
        "id": "PG3l3eCE317t"
      },
      "source": [
        "def object_detection(orig, cls_img):\r\n",
        "  H,W,_ = orig.shape\r\n",
        "  pyramid = image_pyramid(orig, scale=PYR_SCALE, minSize=ROI_SIZE)\r\n",
        "  rois = []\r\n",
        "  locs = []\r\n",
        "  for image in pyramid:\r\n",
        "  # determine the scale factor between the *original* image\r\n",
        "  # dimensions and the *current* layer of the pyramid\r\n",
        "    scale = W / float(image.shape[1])\r\n",
        "    # for each layer of the image pyramid, loop over the sliding\r\n",
        "    # window locations\r\n",
        "    for (x, y, roiOrig) in sliding_window(image, WIN_STEP, ROI_SIZE):\r\n",
        "      # scale the (x, y)-coordinates of the ROI with respect to the\r\n",
        "      # *original* image dimensions\r\n",
        "      x = int(x * scale)\r\n",
        "      y = int(y * scale)\r\n",
        "      w = int(ROI_SIZE[0] * scale)\r\n",
        "      h = int(ROI_SIZE[1] * scale)\r\n",
        "      roi = cv2.resize(roiOrig, (28,28))\r\n",
        "      rois.append(roi)\r\n",
        "      locs.append((x, y, w, h))\r\n",
        "  # cls_img = cv2.imread(\"./7.jpg\", 0)\r\n",
        "  cls_img = np.expand_dims(cls_img, axis=-1)\r\n",
        "  cls_img = np.array([cls_img]*len(rois))\r\n",
        "  inputs = [preprocess_img(im) for im in rois]\r\n",
        "  inputs = np.array(inputs)\r\n",
        "  inputs = inputs/255.0\r\n",
        "  cls_img = cls_img/255.0\r\n",
        "  preds = model.predict([inputs, cls_img])\r\n",
        "  confidences = [float(w[0]) for w in preds]\r\n",
        "  orig = cv2.imread(\"./6.jpg\")\r\n",
        "  indices = cv2.dnn.NMSBoxes(locs, confidences, 0.65, 0.2)\r\n",
        "  result = []\r\n",
        "  for i in indices:\r\n",
        "    i = i [0]\r\n",
        "    x,y,w,h = locs[i]\r\n",
        "    cv2.rectangle(orig, (x,y),(x+w, y+h), (0,255,0))\r\n",
        "    result.append([confidences[i], x, y, x+w, y+h])\r\n",
        "  return result"
      ],
      "execution_count": 59,
      "outputs": []
    },
    {
      "cell_type": "code",
      "metadata": {
        "id": "scgWfF8G2u4m"
      },
      "source": [
        "# save format is: <class_name> <confidence> <left> <top> <right> <bottom>\r\n",
        "import os\r\n",
        "images = [\"./dataset/\"+w for w in os.listdir(\"./dataset\") if w.endswith(\".jpg\")]\r\n",
        "annotations=[]\r\n",
        "cls_img = cv2.imread(\"./7.jpg\", 0)\r\n",
        "for im in images:\r\n",
        "  print(im)\r\n",
        "  orig = cv2.imread(im)\r\n",
        "  result = object_detection(orig, cls_img)\r\n",
        "  annotations.append([im,result])"
      ],
      "execution_count": null,
      "outputs": []
    },
    {
      "cell_type": "code",
      "metadata": {
        "id": "epHsRBsR6NjZ"
      },
      "source": [
        "[w for w in annotations if len(w[1])>0]"
      ],
      "execution_count": null,
      "outputs": []
    },
    {
      "cell_type": "code",
      "metadata": {
        "colab": {
          "base_uri": "https://localhost:8080/"
        },
        "id": "IK6obZ9l_4ar",
        "outputId": "28ce073a-0101-4560-fa80-e4e49bde1bf1"
      },
      "source": [
        "%%shell\r\n",
        "rm -r annotations\r\n",
        "mkdir annotations\r\n",
        "rm result.zip"
      ],
      "execution_count": 62,
      "outputs": [
        {
          "output_type": "execute_result",
          "data": {
            "text/plain": [
              ""
            ]
          },
          "metadata": {
            "tags": []
          },
          "execution_count": 62
        }
      ]
    },
    {
      "cell_type": "code",
      "metadata": {
        "id": "QnJ73U0r64Bi"
      },
      "source": [
        "for obj in annotations:\r\n",
        "  file_name = obj[0]\r\n",
        "  positions = obj[1]\r\n",
        "  if len(positions)==0:\r\n",
        "    continue\r\n",
        "  file_name = file_name.replace(\"./dataset/\",'').replace(\".jpg\", \".txt\")\r\n",
        "  with open(\"annotations/\"+file_name, 'w') as f:\r\n",
        "    lines = [\"3 %.6f %d %d %d %d\"%(w[0], int(w[1]), int(w[2]), int(w[3]), int(w[4])) for w in positions]\r\n",
        "    print(lines)\r\n",
        "    f.write(\"\\n\".join(lines))"
      ],
      "execution_count": null,
      "outputs": []
    },
    {
      "cell_type": "code",
      "metadata": {
        "id": "-T_ZnCb584P3"
      },
      "source": [
        "%%shell\r\n",
        "zip -r result.zip annotations"
      ],
      "execution_count": null,
      "outputs": []
    },
    {
      "cell_type": "code",
      "metadata": {
        "id": "4tHZuvDs-CYv"
      },
      "source": [
        ""
      ],
      "execution_count": null,
      "outputs": []
    }
  ]
}